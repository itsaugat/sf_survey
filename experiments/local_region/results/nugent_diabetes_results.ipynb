{
 "cells": [
  {
   "cell_type": "code",
   "execution_count": 1,
   "id": "5e0f6382",
   "metadata": {},
   "outputs": [],
   "source": [
    "import pickle\n",
    "import collections"
   ]
  },
  {
   "cell_type": "code",
   "execution_count": 2,
   "id": "c612dd0b",
   "metadata": {},
   "outputs": [],
   "source": [
    "filename = 'nugent_diabetes.pickle'\n",
    "\n",
    "with open(filename, 'rb') as f:\n",
    "    results = pickle.load(f)"
   ]
  },
  {
   "cell_type": "code",
   "execution_count": 3,
   "id": "551d2ea3",
   "metadata": {},
   "outputs": [],
   "source": [
    "#results[1]"
   ]
  },
  {
   "cell_type": "code",
   "execution_count": 4,
   "id": "c73bd2e0",
   "metadata": {},
   "outputs": [],
   "source": [
    "nugent = 'nugent_dict'\n",
    "\n",
    "sf_val = []\n",
    "feat = []\n",
    "num_k_sf_nh = []\n",
    "num_k_sf_nmotb = []\n",
    "l1_dist = []\n",
    "l2_dist = []\n",
    "maha_pos_dist = []\n",
    "maha_neg_dist = []\n",
    "\n",
    "for i in range(len(results)):\n",
    "    for j in range(len(results[i])):\n",
    "        # check if dict is not empty\n",
    "        if results[i][j][nugent]:\n",
    "            sf_val.append(results[i][j][nugent]['sf_val'])\n",
    "            feat.append(results[i][j][nugent]['feat_diff'])\n",
    "            num_k_sf_nh.append(results[i][j][nugent]['k_nh'])\n",
    "            num_k_sf_nmotb.append(results[i][j][nugent]['k_nmotb'])\n",
    "            l1_dist.append(results[i][j][nugent]['l1_dist'])\n",
    "            l2_dist.append(results[i][j][nugent]['l2_dist'])\n",
    "            maha_pos_dist.append(results[i][j][nugent]['maha_pos_dist'])\n",
    "            maha_neg_dist.append(results[i][j][nugent]['maha_neg_dist'])"
   ]
  },
  {
   "cell_type": "code",
   "execution_count": 5,
   "id": "c264b7ba",
   "metadata": {},
   "outputs": [],
   "source": [
    "#results[0][10][nugent]['feat_diff']"
   ]
  },
  {
   "cell_type": "code",
   "execution_count": 6,
   "id": "04a14531",
   "metadata": {},
   "outputs": [
    {
     "data": {
      "text/plain": [
       "268"
      ]
     },
     "execution_count": 6,
     "metadata": {},
     "output_type": "execute_result"
    }
   ],
   "source": [
    "len(feat)"
   ]
  },
  {
   "cell_type": "code",
   "execution_count": 7,
   "id": "a74c8327",
   "metadata": {},
   "outputs": [],
   "source": [
    "# aggregate the stats\n",
    "sf_val_avg = sum(sf_val) / len(sf_val)\n",
    "num_k_sf_nh_avg = sum(num_k_sf_nh) / len(num_k_sf_nh)\n",
    "num_k_sf_nmotb_avg = sum(num_k_sf_nmotb) / len(num_k_sf_nmotb)\n",
    "l1_dist_avg = sum(l1_dist) / len(l1_dist)\n",
    "l2_dist_avg = sum(l2_dist) / len(l2_dist)\n",
    "maha_pos_avg = sum(maha_pos_dist) / len(maha_pos_dist)\n",
    "maha_neg_avg = sum(maha_neg_dist) / len(maha_neg_dist)"
   ]
  },
  {
   "cell_type": "code",
   "execution_count": 8,
   "id": "a7e7b0cc",
   "metadata": {},
   "outputs": [
    {
     "data": {
      "text/plain": [
       "{'sf_val': 1.3988976849617258,\n",
       " 'num_k_sf_nh': 207.18283582089552,\n",
       " 'num_k_sf_nmotb': 150.6902985074627,\n",
       " 'l1_dist': 1.5328408675271317,\n",
       " 'l2_dist': 0.6663147374983333,\n",
       " 'maha_pos': 2.80209934807489,\n",
       " 'maha_neg': 2.5444444493162313}"
      ]
     },
     "execution_count": 8,
     "metadata": {},
     "output_type": "execute_result"
    }
   ],
   "source": [
    "# store in dict\n",
    "agg_stat = {}\n",
    "\n",
    "agg_stat['sf_val'] = sf_val_avg\n",
    "agg_stat['num_k_sf_nh'] = num_k_sf_nh_avg\n",
    "agg_stat['num_k_sf_nmotb'] = num_k_sf_nmotb_avg\n",
    "agg_stat['l1_dist'] = l1_dist_avg\n",
    "agg_stat['l2_dist'] = l2_dist_avg\n",
    "agg_stat['maha_pos'] = maha_pos_avg\n",
    "agg_stat['maha_neg'] = maha_neg_avg\n",
    "\n",
    "agg_stat"
   ]
  },
  {
   "cell_type": "code",
   "execution_count": 9,
   "id": "53a4a3bc",
   "metadata": {},
   "outputs": [
    {
     "data": {
      "text/plain": [
       "Counter({2: 160, 1: 108})"
      ]
     },
     "execution_count": 9,
     "metadata": {},
     "output_type": "execute_result"
    }
   ],
   "source": [
    "# get the num of feature diff count as counter object\n",
    "feat_diff = collections.Counter(feat)\n",
    "feat_diff"
   ]
  },
  {
   "cell_type": "code",
   "execution_count": 10,
   "id": "b96b410f",
   "metadata": {},
   "outputs": [
    {
     "data": {
      "text/plain": [
       "{'1': 108, '2': 160, '3+': 0}"
      ]
     },
     "execution_count": 10,
     "metadata": {},
     "output_type": "execute_result"
    }
   ],
   "source": [
    "new_dict = {}\n",
    "three = 0\n",
    "one = 0\n",
    "two = 0\n",
    "for key in feat_diff:\n",
    "    if key>=3:\n",
    "        three += feat_diff[key]\n",
    "    elif key == 1:\n",
    "        one = feat_diff[key]\n",
    "    elif key == 2:\n",
    "        two = feat_diff[key]\n",
    "\n",
    "new_dict['1'] = one\n",
    "new_dict['2'] = two\n",
    "new_dict['3+'] = three\n",
    "\n",
    "new_dict"
   ]
  },
  {
   "cell_type": "code",
   "execution_count": null,
   "id": "c68260b0",
   "metadata": {},
   "outputs": [],
   "source": []
  }
 ],
 "metadata": {
  "kernelspec": {
   "display_name": "research",
   "language": "python",
   "name": "tensorflow"
  },
  "language_info": {
   "codemirror_mode": {
    "name": "ipython",
    "version": 3
   },
   "file_extension": ".py",
   "mimetype": "text/x-python",
   "name": "python",
   "nbconvert_exporter": "python",
   "pygments_lexer": "ipython3",
   "version": "3.9.13"
  }
 },
 "nbformat": 4,
 "nbformat_minor": 5
}
