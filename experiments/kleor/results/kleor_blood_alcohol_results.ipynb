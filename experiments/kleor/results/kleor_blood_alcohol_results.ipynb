{
 "cells": [
  {
   "cell_type": "code",
   "execution_count": 1,
   "id": "1ce37728",
   "metadata": {},
   "outputs": [],
   "source": [
    "import pickle\n",
    "import collections"
   ]
  },
  {
   "cell_type": "code",
   "execution_count": 2,
   "id": "64c31bbd",
   "metadata": {},
   "outputs": [],
   "source": [
    "filename = 'kleor_blood_alcohol.pickle'\n",
    "\n",
    "with open(filename, 'rb') as f:\n",
    "    results = pickle.load(f)"
   ]
  },
  {
   "cell_type": "code",
   "execution_count": 3,
   "id": "920fbf46",
   "metadata": {},
   "outputs": [
    {
     "data": {
      "text/plain": [
       "2"
      ]
     },
     "execution_count": 3,
     "metadata": {},
     "output_type": "execute_result"
    }
   ],
   "source": [
    "len(results)"
   ]
  },
  {
   "cell_type": "code",
   "execution_count": 4,
   "id": "2cd7972a",
   "metadata": {},
   "outputs": [
    {
     "data": {
      "text/plain": [
       "1"
      ]
     },
     "execution_count": 4,
     "metadata": {},
     "output_type": "execute_result"
    }
   ],
   "source": [
    "results[0][0]['sim_miss_dict']['feat_diff']"
   ]
  },
  {
   "cell_type": "markdown",
   "id": "da0a4625",
   "metadata": {},
   "source": [
    "### kleor_sim_miss"
   ]
  },
  {
   "cell_type": "code",
   "execution_count": 5,
   "id": "1064d141",
   "metadata": {},
   "outputs": [],
   "source": [
    "kleor = 'sim_miss_dict'\n",
    "\n",
    "feat = []\n",
    "sf_val = []\n",
    "num_k_sf_nh = []\n",
    "num_k_sf_nmotb = []\n",
    "l1_dist = []\n",
    "l2_dist = []\n",
    "maha_pos_dist = []\n",
    "maha_neg_dist = []\n",
    "\n",
    "for i in range(len(results)):\n",
    "    for j in range(len(results[i])):\n",
    "        # check if dict is not empty\n",
    "        if results[i][j][kleor]:\n",
    "            feat.append(results[i][j][kleor]['feat_diff'])\n",
    "            sf_val.append(results[i][j][kleor]['sf_val'])\n",
    "            num_k_sf_nh.append(results[i][j][kleor]['k_nh'])\n",
    "            num_k_sf_nmotb.append(results[i][j][kleor]['k_nmotb'])\n",
    "            l1_dist.append(results[i][j][kleor]['l1_dist'])\n",
    "            l2_dist.append(results[i][j][kleor]['l2_dist'])\n",
    "            maha_pos_dist.append(results[i][j][kleor]['maha_pos_dist'])\n",
    "            maha_neg_dist.append(results[i][j][kleor]['maha_neg_dist'])"
   ]
  },
  {
   "cell_type": "code",
   "execution_count": 6,
   "id": "9324ad0f",
   "metadata": {},
   "outputs": [],
   "source": [
    "# aggregate the stats\n",
    "sf_val_avg = sum(sf_val) / len(sf_val)\n",
    "num_k_sf_nh_avg = sum(num_k_sf_nh) / len(num_k_sf_nh)\n",
    "num_k_sf_nmotb_avg = sum(num_k_sf_nmotb) / len(num_k_sf_nmotb)\n",
    "l1_dist_avg = sum(l1_dist) / len(l1_dist)\n",
    "l2_dist_avg = sum(l2_dist) / len(l2_dist)\n",
    "maha_pos_avg = sum(maha_pos_dist) / len(maha_pos_dist)\n",
    "maha_neg_avg = sum(maha_neg_dist) / len(maha_neg_dist)"
   ]
  },
  {
   "cell_type": "code",
   "execution_count": 7,
   "id": "82951ea0",
   "metadata": {},
   "outputs": [
    {
     "data": {
      "text/plain": [
       "{'sf_val': 1.4828078675753504,\n",
       " 'num_k_sf_nh': 234.22039979497694,\n",
       " 'num_k_sf_nmotb': 11.854433623782676,\n",
       " 'l1_dist': 0.25496704645015555,\n",
       " 'l2_dist': 0.16953758894162746,\n",
       " 'maha_pos': 2.3369230407807593,\n",
       " 'maha_neg': 2.630883435291296}"
      ]
     },
     "execution_count": 7,
     "metadata": {},
     "output_type": "execute_result"
    }
   ],
   "source": [
    "# store in dict\n",
    "kleor_sim_miss_stat = {}\n",
    "\n",
    "kleor_sim_miss_stat['sf_val'] = sf_val_avg\n",
    "kleor_sim_miss_stat['num_k_sf_nh'] = num_k_sf_nh_avg\n",
    "kleor_sim_miss_stat['num_k_sf_nmotb'] = num_k_sf_nmotb_avg\n",
    "kleor_sim_miss_stat['l1_dist'] = l1_dist_avg\n",
    "kleor_sim_miss_stat['l2_dist'] = l2_dist_avg\n",
    "kleor_sim_miss_stat['maha_pos'] = maha_pos_avg\n",
    "kleor_sim_miss_stat['maha_neg'] = maha_neg_avg\n",
    "\n",
    "kleor_sim_miss_stat"
   ]
  },
  {
   "cell_type": "code",
   "execution_count": 8,
   "id": "b3c6c65b",
   "metadata": {},
   "outputs": [
    {
     "data": {
      "text/plain": [
       "Counter({1: 1922, 2: 29})"
      ]
     },
     "execution_count": 8,
     "metadata": {},
     "output_type": "execute_result"
    }
   ],
   "source": [
    "# get the num of feature diff count as counter object\n",
    "kleor_sim_miss_feat_diff = collections.Counter(feat)\n",
    "kleor_sim_miss_feat_diff"
   ]
  },
  {
   "cell_type": "code",
   "execution_count": 9,
   "id": "0ae39ce4",
   "metadata": {},
   "outputs": [
    {
     "data": {
      "text/plain": [
       "{'1': 1922, '2': 29, '3+': 0}"
      ]
     },
     "execution_count": 9,
     "metadata": {},
     "output_type": "execute_result"
    }
   ],
   "source": [
    "new_dict = {}\n",
    "three = 0\n",
    "one = 0\n",
    "two = 0\n",
    "for key in kleor_sim_miss_feat_diff:\n",
    "    if key>=3:\n",
    "        three += kleor_sim_miss_feat_diff[key]\n",
    "    elif key == 1:\n",
    "        one = kleor_sim_miss_feat_diff[key]\n",
    "    elif key == 2:\n",
    "        two = kleor_sim_miss_feat_diff[key]\n",
    "\n",
    "new_dict['1'] = one\n",
    "new_dict['2'] = two\n",
    "new_dict['3+'] = three\n",
    "\n",
    "new_dict"
   ]
  },
  {
   "cell_type": "markdown",
   "id": "2efb9c92",
   "metadata": {},
   "source": [
    "### kleor_global_sim"
   ]
  },
  {
   "cell_type": "code",
   "execution_count": 10,
   "id": "0d94a13a",
   "metadata": {},
   "outputs": [],
   "source": [
    "kleor = 'global_sim_dict'\n",
    "\n",
    "feat = []\n",
    "sf_val = []\n",
    "num_k_sf_nh = []\n",
    "num_k_sf_nmotb = []\n",
    "l1_dist = []\n",
    "l2_dist = []\n",
    "maha_pos_dist = []\n",
    "maha_neg_dist = []\n",
    "\n",
    "for i in range(len(results)):\n",
    "    for j in range(len(results[i])):\n",
    "        # check if dict is not empty\n",
    "        if results[i][j][kleor]:\n",
    "            feat.append(results[i][j][kleor]['feat_diff'])\n",
    "            sf_val.append(results[i][j][kleor]['sf_val'])\n",
    "            num_k_sf_nh.append(results[i][j][kleor]['k_nh'])\n",
    "            num_k_sf_nmotb.append(results[i][j][kleor]['k_nmotb'])\n",
    "            l1_dist.append(results[i][j][kleor]['l1_dist'])\n",
    "            l2_dist.append(results[i][j][kleor]['l2_dist'])\n",
    "            maha_pos_dist.append(results[i][j][kleor]['maha_pos_dist'])\n",
    "            maha_neg_dist.append(results[i][j][kleor]['maha_neg_dist'])"
   ]
  },
  {
   "cell_type": "code",
   "execution_count": 11,
   "id": "2a32885c",
   "metadata": {},
   "outputs": [],
   "source": [
    "# aggregate the stats\n",
    "sf_val_avg = sum(sf_val) / len(sf_val)\n",
    "num_k_sf_nh_avg = sum(num_k_sf_nh) / len(num_k_sf_nh)\n",
    "num_k_sf_nmotb_avg = sum(num_k_sf_nmotb) / len(num_k_sf_nmotb)\n",
    "l1_dist_avg = sum(l1_dist) / len(l1_dist)\n",
    "l2_dist_avg = sum(l2_dist) / len(l2_dist)\n",
    "maha_pos_avg = sum(maha_pos_dist) / len(maha_pos_dist)\n",
    "maha_neg_avg = sum(maha_neg_dist) / len(maha_neg_dist)"
   ]
  },
  {
   "cell_type": "code",
   "execution_count": 12,
   "id": "18000d45",
   "metadata": {},
   "outputs": [
    {
     "data": {
      "text/plain": [
       "{'sf_val': 1.3372931293940147,\n",
       " 'num_k_sf_nh': 198.45431211498973,\n",
       " 'num_k_sf_nmotb': 17.892197125256672,\n",
       " 'l1_dist': 0.21325156693262634,\n",
       " 'l2_dist': 0.1464485523061507,\n",
       " 'maha_pos': 2.2504799526002017,\n",
       " 'maha_neg': 2.7638570403088756}"
      ]
     },
     "execution_count": 12,
     "metadata": {},
     "output_type": "execute_result"
    }
   ],
   "source": [
    "# store in dict\n",
    "kleor_global_sim_stat = {}\n",
    "\n",
    "kleor_global_sim_stat['sf_val'] = sf_val_avg\n",
    "kleor_global_sim_stat['num_k_sf_nh'] = num_k_sf_nh_avg\n",
    "kleor_global_sim_stat['num_k_sf_nmotb'] = num_k_sf_nmotb_avg\n",
    "kleor_global_sim_stat['l1_dist'] = l1_dist_avg\n",
    "kleor_global_sim_stat['l2_dist'] = l2_dist_avg\n",
    "kleor_global_sim_stat['maha_pos'] = maha_pos_avg\n",
    "kleor_global_sim_stat['maha_neg'] = maha_neg_avg\n",
    "\n",
    "kleor_global_sim_stat"
   ]
  },
  {
   "cell_type": "code",
   "execution_count": 13,
   "id": "94e1ede8",
   "metadata": {},
   "outputs": [
    {
     "data": {
      "text/plain": [
       "Counter({1: 1928, 2: 20})"
      ]
     },
     "execution_count": 13,
     "metadata": {},
     "output_type": "execute_result"
    }
   ],
   "source": [
    "# get the num of feature diff count as counter object\n",
    "kleor_global_sim_feat_diff = collections.Counter(feat)\n",
    "kleor_global_sim_feat_diff"
   ]
  },
  {
   "cell_type": "markdown",
   "id": "067ad230",
   "metadata": {},
   "source": [
    "### kleor_attr_sim"
   ]
  },
  {
   "cell_type": "code",
   "execution_count": 13,
   "id": "d1424765",
   "metadata": {},
   "outputs": [],
   "source": [
    "kleor = 'attr_sim_dict'\n",
    "\n",
    "feat = []\n",
    "sf_val = []\n",
    "num_k_sf_nh = []\n",
    "num_k_sf_nmotb = []\n",
    "l1_dist = []\n",
    "l2_dist = []\n",
    "maha_pos_dist = []\n",
    "maha_neg_dist = []\n",
    "\n",
    "for i in range(len(results)):\n",
    "    for j in range(len(results[i])):\n",
    "        # check if dict is not empty\n",
    "        if results[i][j][kleor]:\n",
    "            feat.append(results[i][j][kleor]['feat_diff'])\n",
    "            sf_val.append(results[i][j][kleor]['sf_val'])\n",
    "            num_k_sf_nh.append(results[i][j][kleor]['k_nh'])\n",
    "            num_k_sf_nmotb.append(results[i][j][kleor]['k_nmotb'])\n",
    "            l1_dist.append(results[i][j][kleor]['l1_dist'])\n",
    "            l2_dist.append(results[i][j][kleor]['l2_dist'])\n",
    "            maha_pos_dist.append(results[i][j][kleor]['maha_pos_dist'])\n",
    "            maha_neg_dist.append(results[i][j][kleor]['maha_neg_dist'])"
   ]
  },
  {
   "cell_type": "code",
   "execution_count": 14,
   "id": "4931e1ea",
   "metadata": {},
   "outputs": [],
   "source": [
    "# aggregate the stats\n",
    "sf_val_avg = sum(sf_val) / len(sf_val)\n",
    "num_k_sf_nh_avg = sum(num_k_sf_nh) / len(num_k_sf_nh)\n",
    "num_k_sf_nmotb_avg = sum(num_k_sf_nmotb) / len(num_k_sf_nmotb)\n",
    "l1_dist_avg = sum(l1_dist) / len(l1_dist)\n",
    "l2_dist_avg = sum(l2_dist) / len(l2_dist)\n",
    "maha_pos_avg = sum(maha_pos_dist) / len(maha_pos_dist)\n",
    "maha_neg_avg = sum(maha_neg_dist) / len(maha_neg_dist)"
   ]
  },
  {
   "cell_type": "code",
   "execution_count": 15,
   "id": "cccb8add",
   "metadata": {},
   "outputs": [
    {
     "data": {
      "text/plain": [
       "{'sf_val': 1.2926332132959473,\n",
       " 'num_k_sf_nh': 162.17734495130702,\n",
       " 'num_k_sf_nmotb': 78.83854433623783,\n",
       " 'l1_dist': 0.20427021849286112,\n",
       " 'l2_dist': 0.1407036973777306,\n",
       " 'maha_pos': 2.1028056288451076,\n",
       " 'maha_neg': 3.1966101707405272}"
      ]
     },
     "execution_count": 15,
     "metadata": {},
     "output_type": "execute_result"
    }
   ],
   "source": [
    "# store in dict\n",
    "kleor_attr_sim_stat = {}\n",
    "\n",
    "kleor_attr_sim_stat['sf_val'] = sf_val_avg\n",
    "kleor_attr_sim_stat['num_k_sf_nh'] = num_k_sf_nh_avg\n",
    "kleor_attr_sim_stat['num_k_sf_nmotb'] = num_k_sf_nmotb_avg\n",
    "kleor_attr_sim_stat['l1_dist'] = l1_dist_avg\n",
    "kleor_attr_sim_stat['l2_dist'] = l2_dist_avg\n",
    "kleor_attr_sim_stat['maha_pos'] = maha_pos_avg\n",
    "kleor_attr_sim_stat['maha_neg'] = maha_neg_avg\n",
    "\n",
    "kleor_attr_sim_stat"
   ]
  },
  {
   "cell_type": "code",
   "execution_count": 16,
   "id": "6e3681e1",
   "metadata": {},
   "outputs": [
    {
     "data": {
      "text/plain": [
       "Counter({1: 1923, 3: 1, 2: 27})"
      ]
     },
     "execution_count": 16,
     "metadata": {},
     "output_type": "execute_result"
    }
   ],
   "source": [
    "# get the num of feature diff count as counter object\n",
    "kleor_attr_sim_feat_diff = collections.Counter(feat)\n",
    "kleor_attr_sim_feat_diff"
   ]
  },
  {
   "cell_type": "code",
   "execution_count": null,
   "id": "df18fbc9",
   "metadata": {},
   "outputs": [],
   "source": []
  }
 ],
 "metadata": {
  "kernelspec": {
   "display_name": "research",
   "language": "python",
   "name": "tensorflow"
  },
  "language_info": {
   "codemirror_mode": {
    "name": "ipython",
    "version": 3
   },
   "file_extension": ".py",
   "mimetype": "text/x-python",
   "name": "python",
   "nbconvert_exporter": "python",
   "pygments_lexer": "ipython3",
   "version": "3.9.13"
  }
 },
 "nbformat": 4,
 "nbformat_minor": 5
}
