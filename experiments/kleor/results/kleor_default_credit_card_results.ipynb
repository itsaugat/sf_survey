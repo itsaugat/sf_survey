{
 "cells": [
  {
   "cell_type": "code",
   "execution_count": 1,
   "id": "1ce37728",
   "metadata": {},
   "outputs": [],
   "source": [
    "import pickle\n",
    "import collections"
   ]
  },
  {
   "cell_type": "code",
   "execution_count": 2,
   "id": "64c31bbd",
   "metadata": {},
   "outputs": [],
   "source": [
    "filename = 'kleor_default_credit_card.pickle'\n",
    "\n",
    "with open(filename, 'rb') as f:\n",
    "    results = pickle.load(f)"
   ]
  },
  {
   "cell_type": "code",
   "execution_count": 3,
   "id": "920fbf46",
   "metadata": {},
   "outputs": [
    {
     "data": {
      "text/plain": [
       "30"
      ]
     },
     "execution_count": 3,
     "metadata": {},
     "output_type": "execute_result"
    }
   ],
   "source": [
    "len(results)"
   ]
  },
  {
   "cell_type": "code",
   "execution_count": 4,
   "id": "2cd7972a",
   "metadata": {},
   "outputs": [
    {
     "data": {
      "text/plain": [
       "4"
      ]
     },
     "execution_count": 4,
     "metadata": {},
     "output_type": "execute_result"
    }
   ],
   "source": [
    "results[0][0]['sim_miss_dict']['feat_diff']"
   ]
  },
  {
   "cell_type": "markdown",
   "id": "da0a4625",
   "metadata": {},
   "source": [
    "### kleor_sim_miss"
   ]
  },
  {
   "cell_type": "code",
   "execution_count": 5,
   "id": "1064d141",
   "metadata": {},
   "outputs": [],
   "source": [
    "kleor = 'sim_miss_dict'\n",
    "\n",
    "feat = []\n",
    "sf_val = []\n",
    "num_k_sf_nh = []\n",
    "num_k_sf_nmotb = []\n",
    "l1_dist = []\n",
    "l2_dist = []\n",
    "maha_pos_dist = []\n",
    "maha_neg_dist = []\n",
    "\n",
    "for i in range(len(results)):\n",
    "    for j in range(len(results[i])):\n",
    "        # check if dict is not empty\n",
    "        if results[i][j][kleor]:\n",
    "            feat.append(results[i][j][kleor]['feat_diff'])\n",
    "            sf_val.append(results[i][j][kleor]['sf_val'])\n",
    "            num_k_sf_nh.append(results[i][j][kleor]['k_nh'])\n",
    "            num_k_sf_nmotb.append(results[i][j][kleor]['k_nmotb'])\n",
    "            l1_dist.append(results[i][j][kleor]['l1_dist'])\n",
    "            l2_dist.append(results[i][j][kleor]['l2_dist'])\n",
    "            maha_pos_dist.append(results[i][j][kleor]['maha_pos_dist'])\n",
    "            maha_neg_dist.append(results[i][j][kleor]['maha_neg_dist'])"
   ]
  },
  {
   "cell_type": "code",
   "execution_count": 6,
   "id": "9324ad0f",
   "metadata": {},
   "outputs": [],
   "source": [
    "# aggregate the stats\n",
    "sf_val_avg = sum(sf_val) / len(sf_val)\n",
    "num_k_sf_nh_avg = sum(num_k_sf_nh) / len(num_k_sf_nh)\n",
    "num_k_sf_nmotb_avg = sum(num_k_sf_nmotb) / len(num_k_sf_nmotb)\n",
    "l1_dist_avg = sum(l1_dist) / len(l1_dist)\n",
    "l2_dist_avg = sum(l2_dist) / len(l2_dist)\n",
    "maha_pos_avg = sum(maha_pos_dist) / len(maha_pos_dist)\n",
    "maha_neg_avg = sum(maha_neg_dist) / len(maha_neg_dist)"
   ]
  },
  {
   "cell_type": "code",
   "execution_count": 7,
   "id": "82951ea0",
   "metadata": {},
   "outputs": [
    {
     "data": {
      "text/plain": [
       "{'sf_val': 1.7774480058734894,\n",
       " 'num_k_sf_nh': 339.12193448808097,\n",
       " 'num_k_sf_nmotb': 5.6237352083690615,\n",
       " 'l1_dist': 0.217872463313277,\n",
       " 'l2_dist': 0.08530911157961699,\n",
       " 'maha_pos': 3.2627850956411066,\n",
       " 'maha_neg': 3.674993230787922}"
      ]
     },
     "execution_count": 7,
     "metadata": {},
     "output_type": "execute_result"
    }
   ],
   "source": [
    "# store in dict\n",
    "kleor_sim_miss_stat = {}\n",
    "\n",
    "kleor_sim_miss_stat['sf_val'] = sf_val_avg\n",
    "kleor_sim_miss_stat['num_k_sf_nh'] = num_k_sf_nh_avg\n",
    "kleor_sim_miss_stat['num_k_sf_nmotb'] = num_k_sf_nmotb_avg\n",
    "kleor_sim_miss_stat['l1_dist'] = l1_dist_avg\n",
    "kleor_sim_miss_stat['l2_dist'] = l2_dist_avg\n",
    "kleor_sim_miss_stat['maha_pos'] = maha_pos_avg\n",
    "kleor_sim_miss_stat['maha_neg'] = maha_neg_avg\n",
    "\n",
    "kleor_sim_miss_stat"
   ]
  },
  {
   "cell_type": "code",
   "execution_count": 8,
   "id": "b3c6c65b",
   "metadata": {},
   "outputs": [
    {
     "data": {
      "text/plain": [
       "Counter({4: 1497,\n",
       "         5: 984,\n",
       "         1: 10308,\n",
       "         3: 2869,\n",
       "         2: 6204,\n",
       "         6: 850,\n",
       "         8: 149,\n",
       "         7: 446,\n",
       "         9: 17})"
      ]
     },
     "execution_count": 8,
     "metadata": {},
     "output_type": "execute_result"
    }
   ],
   "source": [
    "# get the num of feature diff count as counter object\n",
    "kleor_sim_miss_feat_diff = collections.Counter(feat)\n",
    "kleor_sim_miss_feat_diff"
   ]
  },
  {
   "cell_type": "code",
   "execution_count": 9,
   "id": "e66c1b45",
   "metadata": {},
   "outputs": [
    {
     "data": {
      "text/plain": [
       "{'1': 10308, '2': 6204, '3+': 6812}"
      ]
     },
     "execution_count": 9,
     "metadata": {},
     "output_type": "execute_result"
    }
   ],
   "source": [
    "new_dict = {}\n",
    "three = 0\n",
    "one = 0\n",
    "two = 0\n",
    "for key in kleor_sim_miss_feat_diff:\n",
    "    if key>=3:\n",
    "        three += kleor_sim_miss_feat_diff[key]\n",
    "    elif key == 1:\n",
    "        one = kleor_sim_miss_feat_diff[key]\n",
    "    elif key == 2:\n",
    "        two = kleor_sim_miss_feat_diff[key]\n",
    "\n",
    "new_dict['1'] = one\n",
    "new_dict['2'] = two\n",
    "new_dict['3+'] = three\n",
    "\n",
    "new_dict"
   ]
  },
  {
   "cell_type": "markdown",
   "id": "2efb9c92",
   "metadata": {},
   "source": [
    "### kleor_global_sim"
   ]
  },
  {
   "cell_type": "code",
   "execution_count": 10,
   "id": "0d94a13a",
   "metadata": {},
   "outputs": [],
   "source": [
    "kleor = 'global_sim_dict'\n",
    "\n",
    "feat = []\n",
    "sf_val = []\n",
    "num_k_sf_nh = []\n",
    "num_k_sf_nmotb = []\n",
    "l1_dist = []\n",
    "l2_dist = []\n",
    "maha_pos_dist = []\n",
    "maha_neg_dist = []\n",
    "\n",
    "for i in range(len(results)):\n",
    "    for j in range(len(results[i])):\n",
    "        # check if dict is not empty\n",
    "        if results[i][j][kleor]:\n",
    "            feat.append(results[i][j][kleor]['feat_diff'])\n",
    "            sf_val.append(results[i][j][kleor]['sf_val'])\n",
    "            num_k_sf_nh.append(results[i][j][kleor]['k_nh'])\n",
    "            num_k_sf_nmotb.append(results[i][j][kleor]['k_nmotb'])\n",
    "            l1_dist.append(results[i][j][kleor]['l1_dist'])\n",
    "            l2_dist.append(results[i][j][kleor]['l2_dist'])\n",
    "            maha_pos_dist.append(results[i][j][kleor]['maha_pos_dist'])\n",
    "            maha_neg_dist.append(results[i][j][kleor]['maha_neg_dist'])"
   ]
  },
  {
   "cell_type": "code",
   "execution_count": 11,
   "id": "2a32885c",
   "metadata": {},
   "outputs": [],
   "source": [
    "# aggregate the stats\n",
    "sf_val_avg = sum(sf_val) / len(sf_val)\n",
    "num_k_sf_nh_avg = sum(num_k_sf_nh) / len(num_k_sf_nh)\n",
    "num_k_sf_nmotb_avg = sum(num_k_sf_nmotb) / len(num_k_sf_nmotb)\n",
    "l1_dist_avg = sum(l1_dist) / len(l1_dist)\n",
    "l2_dist_avg = sum(l2_dist) / len(l2_dist)\n",
    "maha_pos_avg = sum(maha_pos_dist) / len(maha_pos_dist)\n",
    "maha_neg_avg = sum(maha_neg_dist) / len(maha_neg_dist)"
   ]
  },
  {
   "cell_type": "code",
   "execution_count": 12,
   "id": "18000d45",
   "metadata": {},
   "outputs": [
    {
     "data": {
      "text/plain": [
       "{'sf_val': 1.7592613348848083,\n",
       " 'num_k_sf_nh': 245.02434695549286,\n",
       " 'num_k_sf_nmotb': 11.766951852188951,\n",
       " 'l1_dist': 0.18695976799252834,\n",
       " 'l2_dist': 0.07374054456184584,\n",
       " 'maha_pos': 3.26151906404998,\n",
       " 'maha_neg': 3.6954111719721143}"
      ]
     },
     "execution_count": 12,
     "metadata": {},
     "output_type": "execute_result"
    }
   ],
   "source": [
    "# store in dict\n",
    "kleor_global_sim_stat = {}\n",
    "\n",
    "kleor_global_sim_stat['sf_val'] = sf_val_avg\n",
    "kleor_global_sim_stat['num_k_sf_nh'] = num_k_sf_nh_avg\n",
    "kleor_global_sim_stat['num_k_sf_nmotb'] = num_k_sf_nmotb_avg\n",
    "kleor_global_sim_stat['l1_dist'] = l1_dist_avg\n",
    "kleor_global_sim_stat['l2_dist'] = l2_dist_avg\n",
    "kleor_global_sim_stat['maha_pos'] = maha_pos_avg\n",
    "kleor_global_sim_stat['maha_neg'] = maha_neg_avg\n",
    "\n",
    "kleor_global_sim_stat"
   ]
  },
  {
   "cell_type": "code",
   "execution_count": 13,
   "id": "94e1ede8",
   "metadata": {},
   "outputs": [
    {
     "data": {
      "text/plain": [
       "Counter({4: 1289,\n",
       "         5: 808,\n",
       "         2: 5613,\n",
       "         3: 2448,\n",
       "         1: 10776,\n",
       "         6: 633,\n",
       "         7: 295,\n",
       "         8: 95,\n",
       "         9: 17})"
      ]
     },
     "execution_count": 13,
     "metadata": {},
     "output_type": "execute_result"
    }
   ],
   "source": [
    "# get the num of feature diff count as counter object\n",
    "kleor_global_sim_feat_diff = collections.Counter(feat)\n",
    "kleor_global_sim_feat_diff"
   ]
  },
  {
   "cell_type": "code",
   "execution_count": 14,
   "id": "d51dcf92",
   "metadata": {},
   "outputs": [
    {
     "data": {
      "text/plain": [
       "{'1': 10776, '2': 5613, '3+': 5585}"
      ]
     },
     "execution_count": 14,
     "metadata": {},
     "output_type": "execute_result"
    }
   ],
   "source": [
    "new_dict = {}\n",
    "three = 0\n",
    "one = 0\n",
    "two = 0\n",
    "for key in kleor_global_sim_feat_diff:\n",
    "    if key>=3:\n",
    "        three += kleor_global_sim_feat_diff[key]\n",
    "    elif key == 1:\n",
    "        one = kleor_global_sim_feat_diff[key]\n",
    "    elif key == 2:\n",
    "        two = kleor_global_sim_feat_diff[key]\n",
    "\n",
    "new_dict['1'] = one\n",
    "new_dict['2'] = two\n",
    "new_dict['3+'] = three\n",
    "\n",
    "new_dict"
   ]
  },
  {
   "cell_type": "markdown",
   "id": "067ad230",
   "metadata": {},
   "source": [
    "### kleor_attr_sim"
   ]
  },
  {
   "cell_type": "code",
   "execution_count": 15,
   "id": "d1424765",
   "metadata": {},
   "outputs": [],
   "source": [
    "kleor = 'attr_sim_dict'\n",
    "\n",
    "feat = []\n",
    "sf_val = []\n",
    "num_k_sf_nh = []\n",
    "num_k_sf_nmotb = []\n",
    "l1_dist = []\n",
    "l2_dist = []\n",
    "maha_pos_dist = []\n",
    "maha_neg_dist = []\n",
    "\n",
    "for i in range(len(results)):\n",
    "    for j in range(len(results[i])):\n",
    "        # check if dict is not empty\n",
    "        if results[i][j][kleor]:\n",
    "            feat.append(results[i][j][kleor]['feat_diff'])\n",
    "            sf_val.append(results[i][j][kleor]['sf_val'])\n",
    "            num_k_sf_nh.append(results[i][j][kleor]['k_nh'])\n",
    "            num_k_sf_nmotb.append(results[i][j][kleor]['k_nmotb'])\n",
    "            l1_dist.append(results[i][j][kleor]['l1_dist'])\n",
    "            l2_dist.append(results[i][j][kleor]['l2_dist'])\n",
    "            maha_pos_dist.append(results[i][j][kleor]['maha_pos_dist'])\n",
    "            maha_neg_dist.append(results[i][j][kleor]['maha_neg_dist'])"
   ]
  },
  {
   "cell_type": "code",
   "execution_count": 16,
   "id": "4931e1ea",
   "metadata": {},
   "outputs": [],
   "source": [
    "# aggregate the stats\n",
    "sf_val_avg = sum(sf_val) / len(sf_val)\n",
    "num_k_sf_nh_avg = sum(num_k_sf_nh) / len(num_k_sf_nh)\n",
    "num_k_sf_nmotb_avg = sum(num_k_sf_nmotb) / len(num_k_sf_nmotb)\n",
    "l1_dist_avg = sum(l1_dist) / len(l1_dist)\n",
    "l2_dist_avg = sum(l2_dist) / len(l2_dist)\n",
    "maha_pos_avg = sum(maha_pos_dist) / len(maha_pos_dist)\n",
    "maha_neg_avg = sum(maha_neg_dist) / len(maha_neg_dist)"
   ]
  },
  {
   "cell_type": "code",
   "execution_count": 17,
   "id": "cccb8add",
   "metadata": {},
   "outputs": [
    {
     "data": {
      "text/plain": [
       "{'sf_val': 1.8011746270978415,\n",
       " 'num_k_sf_nh': 6000.578888698336,\n",
       " 'num_k_sf_nmotb': 5811.078888698336,\n",
       " 'l1_dist': 0.4540519369105015,\n",
       " 'l2_dist': 0.24329867119558443,\n",
       " 'maha_pos': 2.9341947667915402,\n",
       " 'maha_neg': 3.3695805151581015}"
      ]
     },
     "execution_count": 17,
     "metadata": {},
     "output_type": "execute_result"
    }
   ],
   "source": [
    "# store in dict\n",
    "kleor_attr_sim_stat = {}\n",
    "\n",
    "kleor_attr_sim_stat['sf_val'] = sf_val_avg\n",
    "kleor_attr_sim_stat['num_k_sf_nh'] = num_k_sf_nh_avg\n",
    "kleor_attr_sim_stat['num_k_sf_nmotb'] = num_k_sf_nmotb_avg\n",
    "kleor_attr_sim_stat['l1_dist'] = l1_dist_avg\n",
    "kleor_attr_sim_stat['l2_dist'] = l2_dist_avg\n",
    "kleor_attr_sim_stat['maha_pos'] = maha_pos_avg\n",
    "kleor_attr_sim_stat['maha_neg'] = maha_neg_avg\n",
    "\n",
    "kleor_attr_sim_stat"
   ]
  },
  {
   "cell_type": "code",
   "execution_count": 18,
   "id": "6e3681e1",
   "metadata": {},
   "outputs": [
    {
     "data": {
      "text/plain": [
       "Counter({2: 7263,\n",
       "         1: 9128,\n",
       "         5: 839,\n",
       "         6: 417,\n",
       "         3: 3593,\n",
       "         4: 1785,\n",
       "         7: 220,\n",
       "         8: 66,\n",
       "         9: 13})"
      ]
     },
     "execution_count": 18,
     "metadata": {},
     "output_type": "execute_result"
    }
   ],
   "source": [
    "# get the num of feature diff count as counter object\n",
    "kleor_attr_sim_feat_diff = collections.Counter(feat)\n",
    "kleor_attr_sim_feat_diff"
   ]
  },
  {
   "cell_type": "code",
   "execution_count": 19,
   "id": "df18fbc9",
   "metadata": {},
   "outputs": [
    {
     "data": {
      "text/plain": [
       "{'1': 9128, '2': 7263, '3+': 6933}"
      ]
     },
     "execution_count": 19,
     "metadata": {},
     "output_type": "execute_result"
    }
   ],
   "source": [
    "new_dict = {}\n",
    "three = 0\n",
    "one = 0\n",
    "two = 0\n",
    "for key in kleor_attr_sim_feat_diff:\n",
    "    if key>=3:\n",
    "        three += kleor_attr_sim_feat_diff[key]\n",
    "    elif key == 1:\n",
    "        one = kleor_attr_sim_feat_diff[key]\n",
    "    elif key == 2:\n",
    "        two = kleor_attr_sim_feat_diff[key]\n",
    "\n",
    "new_dict['1'] = one\n",
    "new_dict['2'] = two\n",
    "new_dict['3+'] = three\n",
    "\n",
    "new_dict"
   ]
  },
  {
   "cell_type": "code",
   "execution_count": null,
   "id": "63e93df4",
   "metadata": {},
   "outputs": [],
   "source": []
  }
 ],
 "metadata": {
  "kernelspec": {
   "display_name": "research",
   "language": "python",
   "name": "tensorflow"
  },
  "language_info": {
   "codemirror_mode": {
    "name": "ipython",
    "version": 3
   },
   "file_extension": ".py",
   "mimetype": "text/x-python",
   "name": "python",
   "nbconvert_exporter": "python",
   "pygments_lexer": "ipython3",
   "version": "3.9.13"
  }
 },
 "nbformat": 4,
 "nbformat_minor": 5
}
