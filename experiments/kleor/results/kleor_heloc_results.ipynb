{
 "cells": [
  {
   "cell_type": "code",
   "execution_count": 1,
   "id": "1ce37728",
   "metadata": {},
   "outputs": [],
   "source": [
    "import pickle\n",
    "import collections"
   ]
  },
  {
   "cell_type": "code",
   "execution_count": 2,
   "id": "64c31bbd",
   "metadata": {},
   "outputs": [],
   "source": [
    "filename = 'kleor_heloc.pickle'\n",
    "\n",
    "with open(filename, 'rb') as f:\n",
    "    results = pickle.load(f)"
   ]
  },
  {
   "cell_type": "code",
   "execution_count": 3,
   "id": "920fbf46",
   "metadata": {},
   "outputs": [
    {
     "data": {
      "text/plain": [
       "9"
      ]
     },
     "execution_count": 3,
     "metadata": {},
     "output_type": "execute_result"
    }
   ],
   "source": [
    "len(results)"
   ]
  },
  {
   "cell_type": "code",
   "execution_count": 4,
   "id": "2cd7972a",
   "metadata": {},
   "outputs": [
    {
     "data": {
      "text/plain": [
       "1"
      ]
     },
     "execution_count": 4,
     "metadata": {},
     "output_type": "execute_result"
    }
   ],
   "source": [
    "results[0][0]['sim_miss_dict']['feat_diff']"
   ]
  },
  {
   "cell_type": "markdown",
   "id": "da0a4625",
   "metadata": {},
   "source": [
    "### kleor_sim_miss"
   ]
  },
  {
   "cell_type": "code",
   "execution_count": 5,
   "id": "1064d141",
   "metadata": {},
   "outputs": [],
   "source": [
    "kleor = 'sim_miss_dict'\n",
    "\n",
    "feat = []\n",
    "sf_val = []\n",
    "num_k_sf_nh = []\n",
    "num_k_sf_nmotb = []\n",
    "l1_dist = []\n",
    "l2_dist = []\n",
    "maha_pos_dist = []\n",
    "maha_neg_dist = []\n",
    "\n",
    "for i in range(len(results)):\n",
    "    for j in range(len(results[i])):\n",
    "        # check if dict is not empty\n",
    "        if results[i][j][kleor]:\n",
    "            feat.append(results[i][j][kleor]['feat_diff'])\n",
    "            sf_val.append(results[i][j][kleor]['sf_val'])\n",
    "            num_k_sf_nh.append(results[i][j][kleor]['k_nh'])\n",
    "            num_k_sf_nmotb.append(results[i][j][kleor]['k_nmotb'])\n",
    "            l1_dist.append(results[i][j][kleor]['l1_dist'])\n",
    "            l2_dist.append(results[i][j][kleor]['l2_dist'])\n",
    "            maha_pos_dist.append(results[i][j][kleor]['maha_pos_dist'])\n",
    "            maha_neg_dist.append(results[i][j][kleor]['maha_neg_dist'])"
   ]
  },
  {
   "cell_type": "code",
   "execution_count": 6,
   "id": "9324ad0f",
   "metadata": {},
   "outputs": [],
   "source": [
    "# aggregate the stats\n",
    "sf_val_avg = sum(sf_val) / len(sf_val)\n",
    "num_k_sf_nh_avg = sum(num_k_sf_nh) / len(num_k_sf_nh)\n",
    "num_k_sf_nmotb_avg = sum(num_k_sf_nmotb) / len(num_k_sf_nmotb)\n",
    "l1_dist_avg = sum(l1_dist) / len(l1_dist)\n",
    "l2_dist_avg = sum(l2_dist) / len(l2_dist)\n",
    "maha_pos_avg = sum(maha_pos_dist) / len(maha_pos_dist)\n",
    "maha_neg_avg = sum(maha_neg_dist) / len(maha_neg_dist)"
   ]
  },
  {
   "cell_type": "code",
   "execution_count": 7,
   "id": "82951ea0",
   "metadata": {},
   "outputs": [
    {
     "data": {
      "text/plain": [
       "{'sf_val': 1.7743821086980072,\n",
       " 'num_k_sf_nh': 201.44578096947936,\n",
       " 'num_k_sf_nmotb': 6.200538599640933,\n",
       " 'l1_dist': 0.9765080829823127,\n",
       " 'l2_dist': 0.32201375511844066,\n",
       " 'maha_pos': 3.404141525360453,\n",
       " 'maha_neg': 3.9738890721559614}"
      ]
     },
     "execution_count": 7,
     "metadata": {},
     "output_type": "execute_result"
    }
   ],
   "source": [
    "# store in dict\n",
    "kleor_sim_miss_stat = {}\n",
    "\n",
    "kleor_sim_miss_stat['sf_val'] = sf_val_avg\n",
    "kleor_sim_miss_stat['num_k_sf_nh'] = num_k_sf_nh_avg\n",
    "kleor_sim_miss_stat['num_k_sf_nmotb'] = num_k_sf_nmotb_avg\n",
    "kleor_sim_miss_stat['l1_dist'] = l1_dist_avg\n",
    "kleor_sim_miss_stat['l2_dist'] = l2_dist_avg\n",
    "kleor_sim_miss_stat['maha_pos'] = maha_pos_avg\n",
    "kleor_sim_miss_stat['maha_neg'] = maha_neg_avg\n",
    "\n",
    "kleor_sim_miss_stat"
   ]
  },
  {
   "cell_type": "code",
   "execution_count": 8,
   "id": "b3c6c65b",
   "metadata": {},
   "outputs": [
    {
     "data": {
      "text/plain": [
       "Counter({1: 5475, 2: 78, 3: 17})"
      ]
     },
     "execution_count": 8,
     "metadata": {},
     "output_type": "execute_result"
    }
   ],
   "source": [
    "# get the num of feature diff count as counter object\n",
    "kleor_sim_miss_feat_diff = collections.Counter(feat)\n",
    "kleor_sim_miss_feat_diff"
   ]
  },
  {
   "cell_type": "code",
   "execution_count": 13,
   "id": "a920c96e",
   "metadata": {},
   "outputs": [
    {
     "data": {
      "text/plain": [
       "{'1': 5475, '2': 78, '3+': 17}"
      ]
     },
     "execution_count": 13,
     "metadata": {},
     "output_type": "execute_result"
    }
   ],
   "source": [
    "new_dict = {}\n",
    "three = 0\n",
    "one = 0\n",
    "two = 0\n",
    "for key in kleor_sim_miss_feat_diff:\n",
    "    if key>=3:\n",
    "        three += kleor_sim_miss_feat_diff[key]\n",
    "    elif key == 1:\n",
    "        one = kleor_sim_miss_feat_diff[key]\n",
    "    elif key == 2:\n",
    "        two = kleor_sim_miss_feat_diff[key]\n",
    "\n",
    "new_dict['1'] = one\n",
    "new_dict['2'] = two\n",
    "new_dict['3+'] = three\n",
    "\n",
    "new_dict"
   ]
  },
  {
   "cell_type": "markdown",
   "id": "2efb9c92",
   "metadata": {},
   "source": [
    "### kleor_global_sim"
   ]
  },
  {
   "cell_type": "code",
   "execution_count": 14,
   "id": "0d94a13a",
   "metadata": {},
   "outputs": [],
   "source": [
    "kleor = 'global_sim_dict'\n",
    "\n",
    "feat = []\n",
    "sf_val = []\n",
    "num_k_sf_nh = []\n",
    "num_k_sf_nmotb = []\n",
    "l1_dist = []\n",
    "l2_dist = []\n",
    "maha_pos_dist = []\n",
    "maha_neg_dist = []\n",
    "\n",
    "for i in range(len(results)):\n",
    "    for j in range(len(results[i])):\n",
    "        # check if dict is not empty\n",
    "        if results[i][j][kleor]:\n",
    "            feat.append(results[i][j][kleor]['feat_diff'])\n",
    "            sf_val.append(results[i][j][kleor]['sf_val'])\n",
    "            num_k_sf_nh.append(results[i][j][kleor]['k_nh'])\n",
    "            num_k_sf_nmotb.append(results[i][j][kleor]['k_nmotb'])\n",
    "            l1_dist.append(results[i][j][kleor]['l1_dist'])\n",
    "            l2_dist.append(results[i][j][kleor]['l2_dist'])\n",
    "            maha_pos_dist.append(results[i][j][kleor]['maha_pos_dist'])\n",
    "            maha_neg_dist.append(results[i][j][kleor]['maha_neg_dist'])"
   ]
  },
  {
   "cell_type": "code",
   "execution_count": 15,
   "id": "2a32885c",
   "metadata": {},
   "outputs": [],
   "source": [
    "# aggregate the stats\n",
    "sf_val_avg = sum(sf_val) / len(sf_val)\n",
    "num_k_sf_nh_avg = sum(num_k_sf_nh) / len(num_k_sf_nh)\n",
    "num_k_sf_nmotb_avg = sum(num_k_sf_nmotb) / len(num_k_sf_nmotb)\n",
    "l1_dist_avg = sum(l1_dist) / len(l1_dist)\n",
    "l2_dist_avg = sum(l2_dist) / len(l2_dist)\n",
    "maha_pos_avg = sum(maha_pos_dist) / len(maha_pos_dist)\n",
    "maha_neg_avg = sum(maha_neg_dist) / len(maha_neg_dist)"
   ]
  },
  {
   "cell_type": "code",
   "execution_count": 16,
   "id": "18000d45",
   "metadata": {},
   "outputs": [
    {
     "data": {
      "text/plain": [
       "{'sf_val': 1.7411948568657276,\n",
       " 'num_k_sf_nh': 86.07179285994508,\n",
       " 'num_k_sf_nmotb': 18.159081992938408,\n",
       " 'l1_dist': 0.7933663971110936,\n",
       " 'l2_dist': 0.26246166566183005,\n",
       " 'maha_pos': 3.4248710425271813,\n",
       " 'maha_neg': 4.069826778094391}"
      ]
     },
     "execution_count": 16,
     "metadata": {},
     "output_type": "execute_result"
    }
   ],
   "source": [
    "# store in dict\n",
    "kleor_global_sim_stat = {}\n",
    "\n",
    "kleor_global_sim_stat['sf_val'] = sf_val_avg\n",
    "kleor_global_sim_stat['num_k_sf_nh'] = num_k_sf_nh_avg\n",
    "kleor_global_sim_stat['num_k_sf_nmotb'] = num_k_sf_nmotb_avg\n",
    "kleor_global_sim_stat['l1_dist'] = l1_dist_avg\n",
    "kleor_global_sim_stat['l2_dist'] = l2_dist_avg\n",
    "kleor_global_sim_stat['maha_pos'] = maha_pos_avg\n",
    "kleor_global_sim_stat['maha_neg'] = maha_neg_avg\n",
    "\n",
    "kleor_global_sim_stat"
   ]
  },
  {
   "cell_type": "code",
   "execution_count": 17,
   "id": "94e1ede8",
   "metadata": {},
   "outputs": [
    {
     "data": {
      "text/plain": [
       "Counter({1: 5052, 2: 37, 3: 8, 4: 1})"
      ]
     },
     "execution_count": 17,
     "metadata": {},
     "output_type": "execute_result"
    }
   ],
   "source": [
    "# get the num of feature diff count as counter object\n",
    "kleor_global_sim_feat_diff = collections.Counter(feat)\n",
    "kleor_global_sim_feat_diff"
   ]
  },
  {
   "cell_type": "code",
   "execution_count": 18,
   "id": "bb24af26",
   "metadata": {},
   "outputs": [
    {
     "data": {
      "text/plain": [
       "{'1': 5052, '2': 37, '3+': 9}"
      ]
     },
     "execution_count": 18,
     "metadata": {},
     "output_type": "execute_result"
    }
   ],
   "source": [
    "new_dict = {}\n",
    "three = 0\n",
    "one = 0\n",
    "two = 0\n",
    "for key in kleor_global_sim_feat_diff:\n",
    "    if key>=3:\n",
    "        three += kleor_global_sim_feat_diff[key]\n",
    "    elif key == 1:\n",
    "        one = kleor_global_sim_feat_diff[key]\n",
    "    elif key == 2:\n",
    "        two = kleor_global_sim_feat_diff[key]\n",
    "\n",
    "new_dict['1'] = one\n",
    "new_dict['2'] = two\n",
    "new_dict['3+'] = three\n",
    "\n",
    "new_dict"
   ]
  },
  {
   "cell_type": "markdown",
   "id": "067ad230",
   "metadata": {},
   "source": [
    "### kleor_attr_sim"
   ]
  },
  {
   "cell_type": "code",
   "execution_count": 19,
   "id": "d1424765",
   "metadata": {},
   "outputs": [],
   "source": [
    "kleor = 'attr_sim_dict'\n",
    "\n",
    "feat = []\n",
    "sf_val = []\n",
    "num_k_sf_nh = []\n",
    "num_k_sf_nmotb = []\n",
    "l1_dist = []\n",
    "l2_dist = []\n",
    "maha_pos_dist = []\n",
    "maha_neg_dist = []\n",
    "\n",
    "for i in range(len(results)):\n",
    "    for j in range(len(results[i])):\n",
    "        # check if dict is not empty\n",
    "        if results[i][j][kleor]:\n",
    "            feat.append(results[i][j][kleor]['feat_diff'])\n",
    "            sf_val.append(results[i][j][kleor]['sf_val'])\n",
    "            num_k_sf_nh.append(results[i][j][kleor]['k_nh'])\n",
    "            num_k_sf_nmotb.append(results[i][j][kleor]['k_nmotb'])\n",
    "            l1_dist.append(results[i][j][kleor]['l1_dist'])\n",
    "            l2_dist.append(results[i][j][kleor]['l2_dist'])\n",
    "            maha_pos_dist.append(results[i][j][kleor]['maha_pos_dist'])\n",
    "            maha_neg_dist.append(results[i][j][kleor]['maha_neg_dist'])"
   ]
  },
  {
   "cell_type": "code",
   "execution_count": 20,
   "id": "4931e1ea",
   "metadata": {},
   "outputs": [],
   "source": [
    "# aggregate the stats\n",
    "sf_val_avg = sum(sf_val) / len(sf_val)\n",
    "num_k_sf_nh_avg = sum(num_k_sf_nh) / len(num_k_sf_nh)\n",
    "num_k_sf_nmotb_avg = sum(num_k_sf_nmotb) / len(num_k_sf_nmotb)\n",
    "l1_dist_avg = sum(l1_dist) / len(l1_dist)\n",
    "l2_dist_avg = sum(l2_dist) / len(l2_dist)\n",
    "maha_pos_avg = sum(maha_pos_dist) / len(maha_pos_dist)\n",
    "maha_neg_avg = sum(maha_neg_dist) / len(maha_neg_dist)"
   ]
  },
  {
   "cell_type": "code",
   "execution_count": 21,
   "id": "cccb8add",
   "metadata": {},
   "outputs": [
    {
     "data": {
      "text/plain": [
       "{'sf_val': 1.7751514946254783,\n",
       " 'num_k_sf_nh': 969.0946140035907,\n",
       " 'num_k_sf_nmotb': 828.7768402154398,\n",
       " 'l1_dist': 1.2492430732152162,\n",
       " 'l2_dist': 0.4457985865875249,\n",
       " 'maha_pos': 3.498976119137288,\n",
       " 'maha_neg': 4.115214877932416}"
      ]
     },
     "execution_count": 21,
     "metadata": {},
     "output_type": "execute_result"
    }
   ],
   "source": [
    "# store in dict\n",
    "kleor_attr_sim_stat = {}\n",
    "\n",
    "kleor_attr_sim_stat['sf_val'] = sf_val_avg\n",
    "kleor_attr_sim_stat['num_k_sf_nh'] = num_k_sf_nh_avg\n",
    "kleor_attr_sim_stat['num_k_sf_nmotb'] = num_k_sf_nmotb_avg\n",
    "kleor_attr_sim_stat['l1_dist'] = l1_dist_avg\n",
    "kleor_attr_sim_stat['l2_dist'] = l2_dist_avg\n",
    "kleor_attr_sim_stat['maha_pos'] = maha_pos_avg\n",
    "kleor_attr_sim_stat['maha_neg'] = maha_neg_avg\n",
    "\n",
    "kleor_attr_sim_stat"
   ]
  },
  {
   "cell_type": "code",
   "execution_count": 22,
   "id": "6e3681e1",
   "metadata": {},
   "outputs": [
    {
     "data": {
      "text/plain": [
       "Counter({2: 600, 1: 4864, 3: 96, 4: 8, 5: 2})"
      ]
     },
     "execution_count": 22,
     "metadata": {},
     "output_type": "execute_result"
    }
   ],
   "source": [
    "# get the num of feature diff count as counter object\n",
    "kleor_attr_sim_feat_diff = collections.Counter(feat)\n",
    "kleor_attr_sim_feat_diff"
   ]
  },
  {
   "cell_type": "code",
   "execution_count": 23,
   "id": "18a48496",
   "metadata": {},
   "outputs": [
    {
     "data": {
      "text/plain": [
       "{'1': 4864, '2': 600, '3+': 106}"
      ]
     },
     "execution_count": 23,
     "metadata": {},
     "output_type": "execute_result"
    }
   ],
   "source": [
    "new_dict = {}\n",
    "three = 0\n",
    "one = 0\n",
    "two = 0\n",
    "for key in kleor_attr_sim_feat_diff:\n",
    "    if key>=3:\n",
    "        three += kleor_attr_sim_feat_diff[key]\n",
    "    elif key == 1:\n",
    "        one = kleor_attr_sim_feat_diff[key]\n",
    "    elif key == 2:\n",
    "        two = kleor_attr_sim_feat_diff[key]\n",
    "\n",
    "new_dict['1'] = one\n",
    "new_dict['2'] = two\n",
    "new_dict['3+'] = three\n",
    "\n",
    "new_dict"
   ]
  },
  {
   "cell_type": "code",
   "execution_count": null,
   "id": "a1f386be",
   "metadata": {},
   "outputs": [],
   "source": []
  }
 ],
 "metadata": {
  "kernelspec": {
   "display_name": "research",
   "language": "python",
   "name": "tensorflow"
  },
  "language_info": {
   "codemirror_mode": {
    "name": "ipython",
    "version": 3
   },
   "file_extension": ".py",
   "mimetype": "text/x-python",
   "name": "python",
   "nbconvert_exporter": "python",
   "pygments_lexer": "ipython3",
   "version": "3.9.13"
  }
 },
 "nbformat": 4,
 "nbformat_minor": 5
}
