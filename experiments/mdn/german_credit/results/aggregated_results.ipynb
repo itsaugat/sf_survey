{
 "cells": [
  {
   "cell_type": "code",
   "execution_count": 1,
   "id": "f96f4654",
   "metadata": {},
   "outputs": [],
   "source": [
    "import pickle\n",
    "import os\n",
    "import collections"
   ]
  },
  {
   "cell_type": "code",
   "execution_count": 2,
   "id": "a3dfa3e5",
   "metadata": {},
   "outputs": [],
   "source": [
    "feature_list = ['checking_status', 'duration', 'credit_history', 'purpose',\n",
    "       'credit_amount', 'savings_status', 'employment',\n",
    "       'installment_commitment', 'personal_status', 'other_parties',\n",
    "       'residence_since', 'property_magnitude', 'age', 'other_payment_plans',\n",
    "       'housing', 'existing_credits', 'job', 'num_dependents', 'own_telephone',\n",
    "       'foreign_worker']"
   ]
  },
  {
   "cell_type": "code",
   "execution_count": 3,
   "id": "17f60410",
   "metadata": {},
   "outputs": [
    {
     "data": {
      "text/plain": [
       "20"
      ]
     },
     "execution_count": 3,
     "metadata": {},
     "output_type": "execute_result"
    }
   ],
   "source": [
    "len(feature_list)"
   ]
  },
  {
   "cell_type": "code",
   "execution_count": 3,
   "id": "ac038f4c",
   "metadata": {},
   "outputs": [
    {
     "name": "stderr",
     "output_type": "stream",
     "text": [
      "/var/folders/9d/3d05xz69469g_qgyv9w2pdy40000gn/T/ipykernel_81727/627921916.py:61: DeprecationWarning: NotImplemented should not be used in a boolean context\n",
      "  maha_pos_dist = list(filter((-9999).__ne__, maha_pos_dist))\n",
      "/var/folders/9d/3d05xz69469g_qgyv9w2pdy40000gn/T/ipykernel_81727/627921916.py:62: DeprecationWarning: NotImplemented should not be used in a boolean context\n",
      "  maha_neg_dist = list(filter((-9999).__ne__, maha_neg_dist))\n"
     ]
    }
   ],
   "source": [
    "sf_dict = {}\n",
    "num_k_sf_nh_dict = {}\n",
    "num_k_sf_nmotb_dict = {}\n",
    "l1_dist_dict = {}\n",
    "l2_dist_dict = {}\n",
    "maha_pos_dist_dict = {}\n",
    "maha_neg_dist_dict = {}\n",
    "feat_dict = {}\n",
    "\n",
    "for feature in feature_list:\n",
    "    \n",
    "    sf_val = []\n",
    "    feat = []\n",
    "    num_k_sf_nh = []\n",
    "    num_k_sf_nmotb = []\n",
    "    l1_dist = []\n",
    "    l2_dist = []\n",
    "    maha_pos_dist = []\n",
    "    maha_neg_dist = []\n",
    "    \n",
    "    high = feature+'_higher_mdn.pickle'\n",
    "    low = feature+'_lower_mdn.pickle'\n",
    "\n",
    "    with open(high, 'rb') as h:\n",
    "        results_high = pickle.load(h)\n",
    "\n",
    "    with open(low, 'rb') as l:\n",
    "        results_low = pickle.load(l)\n",
    "    \n",
    "    for i in range(len(results_high)):\n",
    "        for j in range(len(results_high[i])):\n",
    "            # what to do if the sf-value is same for high/low set?\n",
    "            # currently, if they are equal, taking the high set as SF\n",
    "            if results_high[i][j][0] >= results_low[i][j][0]:\n",
    "                sf_val.append(results_high[i][j][0])\n",
    "                feat.append(results_high[i][j][1])\n",
    "                num_k_sf_nh.append(results_high[i][j][2])\n",
    "                num_k_sf_nmotb.append(results_high[i][j][3])\n",
    "                l1_dist.append(results_high[i][j][4])\n",
    "                l2_dist.append(results_high[i][j][5])\n",
    "                maha_pos_dist.append(results_high[i][j][6])\n",
    "                maha_neg_dist.append(results_high[i][j][7])\n",
    "                \n",
    "            elif results_high[i][j][0] < results_low[i][j][0]:\n",
    "                sf_val.append(results_low[i][j][0])\n",
    "                feat.append(results_low[i][j][1])\n",
    "                num_k_sf_nh.append(results_low[i][j][2])\n",
    "                num_k_sf_nmotb.append(results_low[i][j][3])\n",
    "                l1_dist.append(results_low[i][j][4])\n",
    "                l2_dist.append(results_low[i][j][5])\n",
    "                maha_pos_dist.append(results_low[i][j][6])\n",
    "                maha_neg_dist.append(results_low[i][j][7])\n",
    "    \n",
    "    #print(len(sf_val))\n",
    "    sf_val_avg = sum(sf_val) / len(sf_val)\n",
    "    sf_dict[feature] = sf_val_avg\n",
    "    \n",
    "    # remove dummy values from the list\n",
    "    num_k_sf_nh = list(filter((-9999).__ne__, num_k_sf_nh))\n",
    "    num_k_sf_nmotb = list(filter((-9999).__ne__, num_k_sf_nmotb))\n",
    "    maha_pos_dist = list(filter((-9999).__ne__, maha_pos_dist))\n",
    "    maha_neg_dist = list(filter((-9999).__ne__, maha_neg_dist))\n",
    "    \n",
    "    num_k_sf_nh_dict[feature] = sum(num_k_sf_nh) / len(num_k_sf_nh)\n",
    "    num_k_sf_nmotb_dict[feature] = sum(num_k_sf_nmotb) / len(num_k_sf_nmotb)\n",
    "    l1_dist_dict[feature] = sum(l1_dist) / len(l1_dist)\n",
    "    l2_dist_dict[feature] = sum(l2_dist) / len(l2_dist)\n",
    "    maha_pos_dist_dict[feature] = sum(maha_pos_dist) / len(maha_pos_dist)\n",
    "    maha_neg_dist_dict[feature] = sum(maha_neg_dist) / len(maha_neg_dist)\n",
    "    \n",
    "    # get the num of feature diff count as counter object\n",
    "    feat_dict[feature] = collections.Counter(feat)"
   ]
  },
  {
   "cell_type": "code",
   "execution_count": 4,
   "id": "f5c024ae",
   "metadata": {},
   "outputs": [
    {
     "data": {
      "text/plain": [
       "{'checking_status': 1.6764500000000073,\n",
       " 'duration': 1.5719285504335845,\n",
       " 'credit_history': 1.6357045388246507,\n",
       " 'purpose': 1.6165528805305862,\n",
       " 'credit_amount': 1.5403347961333451,\n",
       " 'savings_status': 1.6291138917393275,\n",
       " 'employment': 1.6739427930208122,\n",
       " 'installment_commitment': 1.6665000000000036,\n",
       " 'personal_status': 1.6394224591044153,\n",
       " 'other_parties': 1.6097000000000006,\n",
       " 'residence_since': 1.669600000000007,\n",
       " 'property_magnitude': 1.6566500000000022,\n",
       " 'age': 1.5363851759554674,\n",
       " 'other_payment_plans': 1.6453028054693035,\n",
       " 'housing': 1.6241735498447176,\n",
       " 'existing_credits': 1.5553666666666703,\n",
       " 'job': 1.6500500000000056,\n",
       " 'num_dependents': 1.6359500000000018,\n",
       " 'own_telephone': 1.6719000000000075,\n",
       " 'foreign_worker': 1.5590499999999954}"
      ]
     },
     "execution_count": 4,
     "metadata": {},
     "output_type": "execute_result"
    }
   ],
   "source": [
    "sf_dict"
   ]
  },
  {
   "cell_type": "code",
   "execution_count": 5,
   "id": "a2b9e5d2",
   "metadata": {},
   "outputs": [
    {
     "data": {
      "text/plain": [
       "'checking_status'"
      ]
     },
     "execution_count": 5,
     "metadata": {},
     "output_type": "execute_result"
    }
   ],
   "source": [
    "key_feature = max(sf_dict, key=sf_dict.get)\n",
    "key_feature"
   ]
  },
  {
   "cell_type": "code",
   "execution_count": 6,
   "id": "7eef917c",
   "metadata": {},
   "outputs": [
    {
     "data": {
      "text/plain": [
       "{'key_feature': 'checking_status',\n",
       " 'sf_value': 1.6764500000000073,\n",
       " 'num_k_sf_nh': 284.5190409026798,\n",
       " 'num_k_sf_nmotb': 285.1114245416079,\n",
       " 'l1_dist': 1.6728662015709421,\n",
       " 'l2_dist': 0.8298455481201721,\n",
       " 'maha_pos': 4.146949795942256,\n",
       " 'maha_neg': 4.584558855597875}"
      ]
     },
     "execution_count": 6,
     "metadata": {},
     "output_type": "execute_result"
    }
   ],
   "source": [
    "# store in dict\n",
    "agg_stat = {}\n",
    "\n",
    "agg_stat['key_feature'] = key_feature\n",
    "agg_stat['sf_value'] = sf_dict[key_feature]\n",
    "agg_stat['num_k_sf_nh'] = num_k_sf_nh_dict[key_feature]\n",
    "agg_stat['num_k_sf_nmotb'] = num_k_sf_nmotb_dict[key_feature]\n",
    "agg_stat['l1_dist'] = l1_dist_dict[key_feature]\n",
    "agg_stat['l2_dist'] = l2_dist_dict[key_feature]\n",
    "agg_stat['maha_pos'] = maha_pos_dist_dict[key_feature]\n",
    "agg_stat['maha_neg'] = maha_neg_dist_dict[key_feature]\n",
    "\n",
    "agg_stat"
   ]
  },
  {
   "cell_type": "code",
   "execution_count": 7,
   "id": "1a1f775b",
   "metadata": {},
   "outputs": [
    {
     "data": {
      "text/plain": [
       "Counter({4: 51, 3: 14, 7: 288, 8: 160, 6: 274, 5: 156, 9: 41, 10: 13, 2: 3})"
      ]
     },
     "execution_count": 7,
     "metadata": {},
     "output_type": "execute_result"
    }
   ],
   "source": [
    "feat_dict[key_feature]"
   ]
  },
  {
   "cell_type": "code",
   "execution_count": 8,
   "id": "f3f539e2",
   "metadata": {},
   "outputs": [],
   "source": [
    "feat = feat_dict[key_feature]"
   ]
  },
  {
   "cell_type": "code",
   "execution_count": 9,
   "id": "71f75ac2",
   "metadata": {},
   "outputs": [
    {
     "data": {
      "text/plain": [
       "{'1': 0, '2': 3, '3+': 997}"
      ]
     },
     "execution_count": 9,
     "metadata": {},
     "output_type": "execute_result"
    }
   ],
   "source": [
    "new_dict = {}\n",
    "three = 0\n",
    "one = 0\n",
    "two = 0\n",
    "for key in feat:\n",
    "    if key>=3:\n",
    "        three += feat[key]\n",
    "    elif key == 1:\n",
    "        one = feat[key]\n",
    "    elif key == 2:\n",
    "        two = feat[key]\n",
    "\n",
    "new_dict['1'] = one\n",
    "new_dict['2'] = two\n",
    "new_dict['3+'] = three\n",
    "\n",
    "new_dict"
   ]
  },
  {
   "cell_type": "code",
   "execution_count": null,
   "id": "9f389e6b",
   "metadata": {},
   "outputs": [],
   "source": []
  }
 ],
 "metadata": {
  "kernelspec": {
   "display_name": "research",
   "language": "python",
   "name": "tensorflow"
  },
  "language_info": {
   "codemirror_mode": {
    "name": "ipython",
    "version": 3
   },
   "file_extension": ".py",
   "mimetype": "text/x-python",
   "name": "python",
   "nbconvert_exporter": "python",
   "pygments_lexer": "ipython3",
   "version": "3.9.13"
  }
 },
 "nbformat": 4,
 "nbformat_minor": 5
}
