{
 "cells": [
  {
   "cell_type": "code",
   "execution_count": 1,
   "id": "f96f4654",
   "metadata": {},
   "outputs": [],
   "source": [
    "import pickle\n",
    "import os\n",
    "import collections"
   ]
  },
  {
   "cell_type": "code",
   "execution_count": 2,
   "id": "a3dfa3e5",
   "metadata": {},
   "outputs": [],
   "source": [
    "feature_list = ['LIMIT_BAL', 'SEX', 'EDUCATION', 'MARRIAGE', 'AGE', 'PAY_1', 'PAY_2',\n",
    "       'PAY_3', 'PAY_4', 'PAY_5', 'PAY_6', 'BILL_AMT1', 'BILL_AMT2',\n",
    "       'BILL_AMT3', 'BILL_AMT4', 'BILL_AMT5', 'BILL_AMT6', 'PAY_AMT1',\n",
    "       'PAY_AMT2', 'PAY_AMT3', 'PAY_AMT4', 'PAY_AMT5', 'PAY_AMT6']"
   ]
  },
  {
   "cell_type": "code",
   "execution_count": 3,
   "id": "e8c33ac4",
   "metadata": {},
   "outputs": [
    {
     "data": {
      "text/plain": [
       "23"
      ]
     },
     "execution_count": 3,
     "metadata": {},
     "output_type": "execute_result"
    }
   ],
   "source": [
    "len(feature_list)"
   ]
  },
  {
   "cell_type": "code",
   "execution_count": 3,
   "id": "ac038f4c",
   "metadata": {},
   "outputs": [
    {
     "name": "stderr",
     "output_type": "stream",
     "text": [
      "/var/folders/9d/3d05xz69469g_qgyv9w2pdy40000gn/T/ipykernel_81702/627921916.py:61: DeprecationWarning: NotImplemented should not be used in a boolean context\n",
      "  maha_pos_dist = list(filter((-9999).__ne__, maha_pos_dist))\n",
      "/var/folders/9d/3d05xz69469g_qgyv9w2pdy40000gn/T/ipykernel_81702/627921916.py:62: DeprecationWarning: NotImplemented should not be used in a boolean context\n",
      "  maha_neg_dist = list(filter((-9999).__ne__, maha_neg_dist))\n"
     ]
    }
   ],
   "source": [
    "sf_dict = {}\n",
    "num_k_sf_nh_dict = {}\n",
    "num_k_sf_nmotb_dict = {}\n",
    "l1_dist_dict = {}\n",
    "l2_dist_dict = {}\n",
    "maha_pos_dist_dict = {}\n",
    "maha_neg_dist_dict = {}\n",
    "feat_dict = {}\n",
    "\n",
    "for feature in feature_list:\n",
    "    \n",
    "    sf_val = []\n",
    "    feat = []\n",
    "    num_k_sf_nh = []\n",
    "    num_k_sf_nmotb = []\n",
    "    l1_dist = []\n",
    "    l2_dist = []\n",
    "    maha_pos_dist = []\n",
    "    maha_neg_dist = []\n",
    "    \n",
    "    high = feature+'_higher_mdn.pickle'\n",
    "    low = feature+'_lower_mdn.pickle'\n",
    "\n",
    "    with open(high, 'rb') as h:\n",
    "        results_high = pickle.load(h)\n",
    "\n",
    "    with open(low, 'rb') as l:\n",
    "        results_low = pickle.load(l)\n",
    "    \n",
    "    for i in range(len(results_high)):\n",
    "        for j in range(len(results_high[i])):\n",
    "            # what to do if the sf-value is same for high/low set?\n",
    "            # currently, if they are equal, taking the high set as SF\n",
    "            if results_high[i][j][0] >= results_low[i][j][0]:\n",
    "                sf_val.append(results_high[i][j][0])\n",
    "                feat.append(results_high[i][j][1])\n",
    "                num_k_sf_nh.append(results_high[i][j][2])\n",
    "                num_k_sf_nmotb.append(results_high[i][j][3])\n",
    "                l1_dist.append(results_high[i][j][4])\n",
    "                l2_dist.append(results_high[i][j][5])\n",
    "                maha_pos_dist.append(results_high[i][j][6])\n",
    "                maha_neg_dist.append(results_high[i][j][7])\n",
    "                \n",
    "            elif results_high[i][j][0] < results_low[i][j][0]:\n",
    "                sf_val.append(results_low[i][j][0])\n",
    "                feat.append(results_low[i][j][1])\n",
    "                num_k_sf_nh.append(results_low[i][j][2])\n",
    "                num_k_sf_nmotb.append(results_low[i][j][3])\n",
    "                l1_dist.append(results_low[i][j][4])\n",
    "                l2_dist.append(results_low[i][j][5])\n",
    "                maha_pos_dist.append(results_low[i][j][6])\n",
    "                maha_neg_dist.append(results_low[i][j][7])\n",
    "    \n",
    "    #print(len(sf_val))\n",
    "    sf_val_avg = sum(sf_val) / len(sf_val)\n",
    "    sf_dict[feature] = sf_val_avg\n",
    "    \n",
    "    # remove dummy values from the list\n",
    "    num_k_sf_nh = list(filter((-9999).__ne__, num_k_sf_nh))\n",
    "    num_k_sf_nmotb = list(filter((-9999).__ne__, num_k_sf_nmotb))\n",
    "    maha_pos_dist = list(filter((-9999).__ne__, maha_pos_dist))\n",
    "    maha_neg_dist = list(filter((-9999).__ne__, maha_neg_dist))\n",
    "    \n",
    "    num_k_sf_nh_dict[feature] = sum(num_k_sf_nh) / len(num_k_sf_nh)\n",
    "    num_k_sf_nmotb_dict[feature] = sum(num_k_sf_nmotb) / len(num_k_sf_nmotb)\n",
    "    l1_dist_dict[feature] = sum(l1_dist) / len(l1_dist)\n",
    "    l2_dist_dict[feature] = sum(l2_dist) / len(l2_dist)\n",
    "    maha_pos_dist_dict[feature] = sum(maha_pos_dist) / len(maha_pos_dist)\n",
    "    maha_neg_dist_dict[feature] = sum(maha_neg_dist) / len(maha_neg_dist)\n",
    "    \n",
    "    # get the num of feature diff count as counter object\n",
    "    feat_dict[feature] = collections.Counter(feat)"
   ]
  },
  {
   "cell_type": "code",
   "execution_count": 4,
   "id": "f5c024ae",
   "metadata": {},
   "outputs": [
    {
     "data": {
      "text/plain": [
       "{'LIMIT_BAL': 1.729423039398636,\n",
       " 'SEX': 1.8598681159422448,\n",
       " 'EDUCATION': 1.833587408638725,\n",
       " 'MARRIAGE': 1.8342498239166907,\n",
       " 'AGE': 1.7374671827470243,\n",
       " 'PAY_1': 1.770560032639494,\n",
       " 'PAY_2': 1.5792885936095615,\n",
       " 'PAY_3': 1.6690565131088697,\n",
       " 'PAY_4': 1.673769319635406,\n",
       " 'PAY_5': 1.675968698932732,\n",
       " 'PAY_6': 1.6917272035641278,\n",
       " 'BILL_AMT1': 1.3516556684256769,\n",
       " 'BILL_AMT2': 1.4655875192470826,\n",
       " 'BILL_AMT3': 1.3776553116808081,\n",
       " 'BILL_AMT4': 1.2878687710597583,\n",
       " 'BILL_AMT5': 1.323610325614673,\n",
       " 'BILL_AMT6': 1.3776018356840263,\n",
       " 'PAY_AMT1': 1.6731889911227773,\n",
       " 'PAY_AMT2': 1.6998985050919333,\n",
       " 'PAY_AMT3': 1.6707535739344326,\n",
       " 'PAY_AMT4': 1.6610035040096336,\n",
       " 'PAY_AMT5': 1.7098035969866094,\n",
       " 'PAY_AMT6': 1.7273240542235768}"
      ]
     },
     "execution_count": 4,
     "metadata": {},
     "output_type": "execute_result"
    }
   ],
   "source": [
    "sf_dict"
   ]
  },
  {
   "cell_type": "code",
   "execution_count": 5,
   "id": "a2b9e5d2",
   "metadata": {},
   "outputs": [
    {
     "data": {
      "text/plain": [
       "'SEX'"
      ]
     },
     "execution_count": 5,
     "metadata": {},
     "output_type": "execute_result"
    }
   ],
   "source": [
    "key_feature = max(sf_dict, key=sf_dict.get)\n",
    "key_feature"
   ]
  },
  {
   "cell_type": "code",
   "execution_count": 6,
   "id": "7eef917c",
   "metadata": {},
   "outputs": [
    {
     "data": {
      "text/plain": [
       "{'key_feature': 'SEX',\n",
       " 'sf_value': 1.8598681159422448,\n",
       " 'num_k_sf_nh': 5653.3585148345055,\n",
       " 'num_k_sf_nmotb': 5623.983107528726,\n",
       " 'l1_dist': 0.4129776660159695,\n",
       " 'l2_dist': 0.262548440473701,\n",
       " 'maha_pos': 3.2461771772649817,\n",
       " 'maha_neg': 3.6717734440909657}"
      ]
     },
     "execution_count": 6,
     "metadata": {},
     "output_type": "execute_result"
    }
   ],
   "source": [
    "# store in dict\n",
    "agg_stat = {}\n",
    "\n",
    "agg_stat['key_feature'] = key_feature\n",
    "agg_stat['sf_value'] = sf_dict[key_feature]\n",
    "agg_stat['num_k_sf_nh'] = num_k_sf_nh_dict[key_feature]\n",
    "agg_stat['num_k_sf_nmotb'] = num_k_sf_nmotb_dict[key_feature]\n",
    "agg_stat['l1_dist'] = l1_dist_dict[key_feature]\n",
    "agg_stat['l2_dist'] = l2_dist_dict[key_feature]\n",
    "agg_stat['maha_pos'] = maha_pos_dist_dict[key_feature]\n",
    "agg_stat['maha_neg'] = maha_neg_dist_dict[key_feature]\n",
    "\n",
    "agg_stat"
   ]
  },
  {
   "cell_type": "code",
   "execution_count": 7,
   "id": "899d3e6c",
   "metadata": {},
   "outputs": [
    {
     "data": {
      "text/plain": [
       "Counter({3: 6020,\n",
       "         2: 8523,\n",
       "         1: 5298,\n",
       "         5: 2466,\n",
       "         11: 116,\n",
       "         6: 1535,\n",
       "         4: 3742,\n",
       "         12: 44,\n",
       "         7: 1022,\n",
       "         8: 618,\n",
       "         10: 233,\n",
       "         13: 13,\n",
       "         9: 361,\n",
       "         14: 8,\n",
       "         17: 1})"
      ]
     },
     "execution_count": 7,
     "metadata": {},
     "output_type": "execute_result"
    }
   ],
   "source": [
    "feat_dict[key_feature]"
   ]
  },
  {
   "cell_type": "code",
   "execution_count": 8,
   "id": "f3f539e2",
   "metadata": {},
   "outputs": [],
   "source": [
    "feat = feat_dict[key_feature]"
   ]
  },
  {
   "cell_type": "code",
   "execution_count": 9,
   "id": "71f75ac2",
   "metadata": {},
   "outputs": [
    {
     "data": {
      "text/plain": [
       "{'1': 5298, '2': 8523, '3+': 16179}"
      ]
     },
     "execution_count": 9,
     "metadata": {},
     "output_type": "execute_result"
    }
   ],
   "source": [
    "new_dict = {}\n",
    "three = 0\n",
    "one = 0\n",
    "two = 0\n",
    "for key in feat:\n",
    "    if key>=3:\n",
    "        three += feat[key]\n",
    "    elif key == 1:\n",
    "        one = feat[key]\n",
    "    elif key == 2:\n",
    "        two = feat[key]\n",
    "\n",
    "new_dict['1'] = one\n",
    "new_dict['2'] = two\n",
    "new_dict['3+'] = three\n",
    "\n",
    "new_dict"
   ]
  },
  {
   "cell_type": "code",
   "execution_count": null,
   "id": "7709459b",
   "metadata": {},
   "outputs": [],
   "source": []
  }
 ],
 "metadata": {
  "kernelspec": {
   "display_name": "research",
   "language": "python",
   "name": "tensorflow"
  },
  "language_info": {
   "codemirror_mode": {
    "name": "ipython",
    "version": 3
   },
   "file_extension": ".py",
   "mimetype": "text/x-python",
   "name": "python",
   "nbconvert_exporter": "python",
   "pygments_lexer": "ipython3",
   "version": "3.9.13"
  }
 },
 "nbformat": 4,
 "nbformat_minor": 5
}
